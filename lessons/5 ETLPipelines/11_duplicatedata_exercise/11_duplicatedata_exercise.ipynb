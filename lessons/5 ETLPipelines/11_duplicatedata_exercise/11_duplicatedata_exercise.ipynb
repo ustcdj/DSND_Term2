{
 "cells": [
  {
   "cell_type": "markdown",
   "metadata": {},
   "source": [
    "# Duplicate Data\n",
    "\n",
    "A data set might have duplicate data: in other words, the same record is represented multiple times. Sometimes, it's easy to find and eliminate duplicate data like when two records are exactly the same. At other times, like what was discussed in the video, duplicate data is hard to spot. \n",
    "\n",
    "# Exercise 1\n",
    "\n",
    "From the World Bank GDP data, count the number of countries that have had a project totalamt greater than 1 billion dollars (1,000,000,000). To get the count, you'll have to remove duplicate data rows."
   ]
  },
  {
   "cell_type": "code",
   "execution_count": 15,
   "metadata": {},
   "outputs": [],
   "source": [
    "pd.set_option(\"display.max.columns\", None)"
   ]
  },
  {
   "cell_type": "code",
   "execution_count": 1,
   "metadata": {},
   "outputs": [],
   "source": [
    "import pandas as pd\n",
    "\n",
    "# read in the projects data set and do some basic wrangling \n",
    "projects = pd.read_csv('../data/projects_data.csv', dtype=str)\n",
    "projects.drop('Unnamed: 56', axis=1, inplace=True)\n",
    "projects['totalamt'] = pd.to_numeric(projects['totalamt'].str.replace(',', ''))\n",
    "projects['countryname'] = projects['countryname'].str.split(';', expand=True)[0]\n",
    "projects['boardapprovaldate'] = pd.to_datetime(projects['boardapprovaldate'])\n"
   ]
  },
  {
   "cell_type": "code",
   "execution_count": 10,
   "metadata": {},
   "outputs": [
    {
     "name": "stdout",
     "output_type": "stream",
     "text": [
      "number of countries with projects over $1 billion: 17\n",
      "the countries with projects over $1 billion are below: \n"
     ]
    },
    {
     "data": {
      "text/plain": [
       "Republic of India                  7\n",
       "United Mexican States              7\n",
       "Republic of Poland                 5\n",
       "Federative Republic of Brazil      3\n",
       "Republic of Korea                  3\n",
       "Republic of Turkey                 3\n",
       "Romania                            2\n",
       "Republic of Kazakhstan             2\n",
       "Republic of Peru                   2\n",
       "Republic of Indonesia              2\n",
       "Republic of Iraq                   2\n",
       "Hungary                            1\n",
       "Republic of South Africa           1\n",
       "Argentine Republic                 1\n",
       "Arab Republic of Egypt             1\n",
       "People's Republic of Bangladesh    1\n",
       "Russian Federation                 1\n",
       "Name: countryname, dtype: int64"
      ]
     },
     "execution_count": 10,
     "metadata": {},
     "output_type": "execute_result"
    }
   ],
   "source": [
    "# TODO: filter the data frame for projects over 1 billion dollars\n",
    "# TODO: count the number of unique countries in the results\n",
    "\n",
    "project_over_1billion = projects[projects['totalamt'] > 1000000000]\n",
    "print(\"number of countries with projects over $1 billion: {}\".format(project_over_1billion.countryname.nunique()))\n",
    "\n",
    "print(\"the countries with projects over $1 billion are below: \")\n",
    "project_over_1billion.countryname.value_counts()\n"
   ]
  },
  {
   "cell_type": "markdown",
   "metadata": {},
   "source": [
    "# Exercise 2 (challenge)\n",
    "\n",
    "This exercise is more challenging. **The projects data set contains data about Yugoslavia, which was an Eastern European country until 1992.** Yugoslavia eventually broke up into 7 countries: Bosnia and Herzegovina, Croatia, Kosovo, Macedonia, Montenegro, Serbia, and Slovenia.\n",
    "\n",
    "But the projects dataset has some ambiguity in how it treats Yugoslavia and the 7 countries that came from Yugoslavia. \n",
    "\n",
    "**Your task is to find Yugoslavia projects that are probably represented multiple times in the data set.**"
   ]
  },
  {
   "cell_type": "code",
   "execution_count": 24,
   "metadata": {},
   "outputs": [],
   "source": [
    "import datetime\n",
    "\n",
    "republic_Yugoslavia = ['Bosnia', 'Herzegovina', 'Croatia', 'Kosovo', 'Macedonia', 'Serbia', 'Sovenia']\n",
    "\n",
    "cols_keep = ['regionname', 'countryname', 'lendinginstr', 'totalamt', 'boardapprovaldate', \\\n",
    "             'location','GeoLocID', 'GeoLocName', 'Latitude','Longitude','Country', 'project_name']"
   ]
  },
  {
   "cell_type": "code",
   "execution_count": 35,
   "metadata": {},
   "outputs": [
    {
     "data": {
      "text/html": [
       "<div>\n",
       "<style scoped>\n",
       "    .dataframe tbody tr th:only-of-type {\n",
       "        vertical-align: middle;\n",
       "    }\n",
       "\n",
       "    .dataframe tbody tr th {\n",
       "        vertical-align: top;\n",
       "    }\n",
       "\n",
       "    .dataframe thead th {\n",
       "        text-align: right;\n",
       "    }\n",
       "</style>\n",
       "<table border=\"1\" class=\"dataframe\">\n",
       "  <thead>\n",
       "    <tr style=\"text-align: right;\">\n",
       "      <th></th>\n",
       "      <th>regionname</th>\n",
       "      <th>countryname</th>\n",
       "      <th>lendinginstr</th>\n",
       "      <th>totalamt</th>\n",
       "      <th>boardapprovaldate</th>\n",
       "      <th>location</th>\n",
       "      <th>GeoLocID</th>\n",
       "      <th>GeoLocName</th>\n",
       "      <th>Latitude</th>\n",
       "      <th>Longitude</th>\n",
       "      <th>Country</th>\n",
       "      <th>project_name</th>\n",
       "    </tr>\n",
       "  </thead>\n",
       "  <tbody>\n",
       "    <tr>\n",
       "      <td>11166</td>\n",
       "      <td>Europe and Central Asia</td>\n",
       "      <td>Socialist Federal Republic of Yugoslavia</td>\n",
       "      <td>Specific Investment Loan</td>\n",
       "      <td>300000000</td>\n",
       "      <td>1991-06-25 00:00:00+00:00</td>\n",
       "      <td>NaN</td>\n",
       "      <td>NaN</td>\n",
       "      <td>NaN</td>\n",
       "      <td>NaN</td>\n",
       "      <td>NaN</td>\n",
       "      <td>NaN</td>\n",
       "      <td>Kolubara B Thermal Power &amp; Lignite Mine Project</td>\n",
       "    </tr>\n",
       "    <tr>\n",
       "      <td>11410</td>\n",
       "      <td>Europe and Central Asia</td>\n",
       "      <td>Socialist Federal Republic of Yugoslavia</td>\n",
       "      <td>Sector Investment and Maintenance Loan</td>\n",
       "      <td>292000000</td>\n",
       "      <td>1990-06-20 00:00:00+00:00</td>\n",
       "      <td>NaN</td>\n",
       "      <td>NaN</td>\n",
       "      <td>NaN</td>\n",
       "      <td>NaN</td>\n",
       "      <td>NaN</td>\n",
       "      <td>NaN</td>\n",
       "      <td>Highway Sector Loan Project (03)</td>\n",
       "    </tr>\n",
       "    <tr>\n",
       "      <td>11479</td>\n",
       "      <td>Europe and Central Asia</td>\n",
       "      <td>Socialist Federal Republic of Yugoslavia</td>\n",
       "      <td>Structural Adjustment Loan</td>\n",
       "      <td>400000000</td>\n",
       "      <td>1990-04-12 00:00:00+00:00</td>\n",
       "      <td>NaN</td>\n",
       "      <td>NaN</td>\n",
       "      <td>NaN</td>\n",
       "      <td>NaN</td>\n",
       "      <td>NaN</td>\n",
       "      <td>NaN</td>\n",
       "      <td>Structural Adjustment Loan Project (02)</td>\n",
       "    </tr>\n",
       "    <tr>\n",
       "      <td>11694</td>\n",
       "      <td>Europe and Central Asia</td>\n",
       "      <td>Socialist Federal Republic of Yugoslavia</td>\n",
       "      <td>Sector Investment and Maintenance Loan</td>\n",
       "      <td>138000000</td>\n",
       "      <td>1989-05-23 00:00:00+00:00</td>\n",
       "      <td>NaN</td>\n",
       "      <td>NaN</td>\n",
       "      <td>NaN</td>\n",
       "      <td>NaN</td>\n",
       "      <td>NaN</td>\n",
       "      <td>NaN</td>\n",
       "      <td>Railway Project (07)</td>\n",
       "    </tr>\n",
       "    <tr>\n",
       "      <td>11695</td>\n",
       "      <td>Europe and Central Asia</td>\n",
       "      <td>Socialist Federal Republic of Yugoslavia</td>\n",
       "      <td>Specific Investment Loan</td>\n",
       "      <td>60000000</td>\n",
       "      <td>1989-05-23 00:00:00+00:00</td>\n",
       "      <td>NaN</td>\n",
       "      <td>NaN</td>\n",
       "      <td>NaN</td>\n",
       "      <td>NaN</td>\n",
       "      <td>NaN</td>\n",
       "      <td>NaN</td>\n",
       "      <td>Istria Water Supply &amp; Sewerage Project</td>\n",
       "    </tr>\n",
       "    <tr>\n",
       "      <td>...</td>\n",
       "      <td>...</td>\n",
       "      <td>...</td>\n",
       "      <td>...</td>\n",
       "      <td>...</td>\n",
       "      <td>...</td>\n",
       "      <td>...</td>\n",
       "      <td>...</td>\n",
       "      <td>...</td>\n",
       "      <td>...</td>\n",
       "      <td>...</td>\n",
       "      <td>...</td>\n",
       "      <td>...</td>\n",
       "    </tr>\n",
       "    <tr>\n",
       "      <td>17903</td>\n",
       "      <td>Europe and Central Asia</td>\n",
       "      <td>Socialist Federal Republic of Yugoslavia</td>\n",
       "      <td>Specific Investment Loan</td>\n",
       "      <td>30000000</td>\n",
       "      <td>1962-07-11 00:00:00+00:00</td>\n",
       "      <td>NaN</td>\n",
       "      <td>NaN</td>\n",
       "      <td>NaN</td>\n",
       "      <td>NaN</td>\n",
       "      <td>NaN</td>\n",
       "      <td>NaN</td>\n",
       "      <td>Electric Power Project</td>\n",
       "    </tr>\n",
       "    <tr>\n",
       "      <td>17963</td>\n",
       "      <td>Europe and Central Asia</td>\n",
       "      <td>Socialist Federal Republic of Yugoslavia</td>\n",
       "      <td>Specific Investment Loan</td>\n",
       "      <td>30000000</td>\n",
       "      <td>1961-02-23 00:00:00+00:00</td>\n",
       "      <td>NaN</td>\n",
       "      <td>NaN</td>\n",
       "      <td>NaN</td>\n",
       "      <td>NaN</td>\n",
       "      <td>NaN</td>\n",
       "      <td>NaN</td>\n",
       "      <td>Electric Power Project</td>\n",
       "    </tr>\n",
       "    <tr>\n",
       "      <td>18175</td>\n",
       "      <td>Europe and Central Asia</td>\n",
       "      <td>Socialist Federal Republic of Yugoslavia</td>\n",
       "      <td>Structural Adjustment Loan</td>\n",
       "      <td>30000000</td>\n",
       "      <td>1953-02-11 00:00:00+00:00</td>\n",
       "      <td>NaN</td>\n",
       "      <td>NaN</td>\n",
       "      <td>NaN</td>\n",
       "      <td>NaN</td>\n",
       "      <td>NaN</td>\n",
       "      <td>NaN</td>\n",
       "      <td>Power Mining Industry Project</td>\n",
       "    </tr>\n",
       "    <tr>\n",
       "      <td>18197</td>\n",
       "      <td>Europe and Central Asia</td>\n",
       "      <td>Socialist Federal Republic of Yugoslavia</td>\n",
       "      <td>Structural Adjustment Loan</td>\n",
       "      <td>28000000</td>\n",
       "      <td>1951-10-11 00:00:00+00:00</td>\n",
       "      <td>NaN</td>\n",
       "      <td>NaN</td>\n",
       "      <td>NaN</td>\n",
       "      <td>NaN</td>\n",
       "      <td>NaN</td>\n",
       "      <td>NaN</td>\n",
       "      <td>Power Mining Industry Project</td>\n",
       "    </tr>\n",
       "    <tr>\n",
       "      <td>18228</td>\n",
       "      <td>Europe and Central Asia</td>\n",
       "      <td>Socialist Federal Republic of Yugoslavia</td>\n",
       "      <td>Specific Investment Loan</td>\n",
       "      <td>2700000</td>\n",
       "      <td>1949-10-17 00:00:00+00:00</td>\n",
       "      <td>NaN</td>\n",
       "      <td>NaN</td>\n",
       "      <td>NaN</td>\n",
       "      <td>NaN</td>\n",
       "      <td>NaN</td>\n",
       "      <td>NaN</td>\n",
       "      <td>Agriculture Timber Equipment Project</td>\n",
       "    </tr>\n",
       "  </tbody>\n",
       "</table>\n",
       "<p>90 rows × 12 columns</p>\n",
       "</div>"
      ],
      "text/plain": [
       "                    regionname                               countryname  \\\n",
       "11166  Europe and Central Asia  Socialist Federal Republic of Yugoslavia   \n",
       "11410  Europe and Central Asia  Socialist Federal Republic of Yugoslavia   \n",
       "11479  Europe and Central Asia  Socialist Federal Republic of Yugoslavia   \n",
       "11694  Europe and Central Asia  Socialist Federal Republic of Yugoslavia   \n",
       "11695  Europe and Central Asia  Socialist Federal Republic of Yugoslavia   \n",
       "...                        ...                                       ...   \n",
       "17903  Europe and Central Asia  Socialist Federal Republic of Yugoslavia   \n",
       "17963  Europe and Central Asia  Socialist Federal Republic of Yugoslavia   \n",
       "18175  Europe and Central Asia  Socialist Federal Republic of Yugoslavia   \n",
       "18197  Europe and Central Asia  Socialist Federal Republic of Yugoslavia   \n",
       "18228  Europe and Central Asia  Socialist Federal Republic of Yugoslavia   \n",
       "\n",
       "                                 lendinginstr   totalamt  \\\n",
       "11166                Specific Investment Loan  300000000   \n",
       "11410  Sector Investment and Maintenance Loan  292000000   \n",
       "11479              Structural Adjustment Loan  400000000   \n",
       "11694  Sector Investment and Maintenance Loan  138000000   \n",
       "11695                Specific Investment Loan   60000000   \n",
       "...                                       ...        ...   \n",
       "17903                Specific Investment Loan   30000000   \n",
       "17963                Specific Investment Loan   30000000   \n",
       "18175              Structural Adjustment Loan   30000000   \n",
       "18197              Structural Adjustment Loan   28000000   \n",
       "18228                Specific Investment Loan    2700000   \n",
       "\n",
       "              boardapprovaldate location GeoLocID GeoLocName Latitude  \\\n",
       "11166 1991-06-25 00:00:00+00:00      NaN      NaN        NaN      NaN   \n",
       "11410 1990-06-20 00:00:00+00:00      NaN      NaN        NaN      NaN   \n",
       "11479 1990-04-12 00:00:00+00:00      NaN      NaN        NaN      NaN   \n",
       "11694 1989-05-23 00:00:00+00:00      NaN      NaN        NaN      NaN   \n",
       "11695 1989-05-23 00:00:00+00:00      NaN      NaN        NaN      NaN   \n",
       "...                         ...      ...      ...        ...      ...   \n",
       "17903 1962-07-11 00:00:00+00:00      NaN      NaN        NaN      NaN   \n",
       "17963 1961-02-23 00:00:00+00:00      NaN      NaN        NaN      NaN   \n",
       "18175 1953-02-11 00:00:00+00:00      NaN      NaN        NaN      NaN   \n",
       "18197 1951-10-11 00:00:00+00:00      NaN      NaN        NaN      NaN   \n",
       "18228 1949-10-17 00:00:00+00:00      NaN      NaN        NaN      NaN   \n",
       "\n",
       "      Longitude Country                                     project_name  \n",
       "11166       NaN     NaN  Kolubara B Thermal Power & Lignite Mine Project  \n",
       "11410       NaN     NaN                 Highway Sector Loan Project (03)  \n",
       "11479       NaN     NaN          Structural Adjustment Loan Project (02)  \n",
       "11694       NaN     NaN                             Railway Project (07)  \n",
       "11695       NaN     NaN           Istria Water Supply & Sewerage Project  \n",
       "...         ...     ...                                              ...  \n",
       "17903       NaN     NaN                           Electric Power Project  \n",
       "17963       NaN     NaN                           Electric Power Project  \n",
       "18175       NaN     NaN                    Power Mining Industry Project  \n",
       "18197       NaN     NaN                    Power Mining Industry Project  \n",
       "18228       NaN     NaN             Agriculture Timber Equipment Project  \n",
       "\n",
       "[90 rows x 12 columns]"
      ]
     },
     "execution_count": 35,
     "metadata": {},
     "output_type": "execute_result"
    }
   ],
   "source": [
    "# TODO: output all projects for the 'Socialist Federal Republic of Yugoslavia'\n",
    "# HINT: You can use the exact country name or use the pandas str.contains() method to search for Yugoslavia\n",
    "\n",
    "yugoslavia = projects[cols_keep][projects['countryname'].str.contains('Yugoslavia')]\n",
    "yugoslavia"
   ]
  },
  {
   "cell_type": "markdown",
   "metadata": {},
   "source": [
    "Yugoslavia officially ended on [April 27th, 1992](https://en.wikipedia.org/wiki/Yugoslavia). \n",
    "\n",
    "In the code cell below, filter for projects with a 'boardapprovaldate' prior to April 27th, 1992 **and** with 'countryname' Bosnia and Herzegovina, Croatia, Kosovo, Macedonia, Serbia **or** Slovenia. You'll see there are a total of 12 projects in the data set that match this criteria. Save the results in the republics variable"
   ]
  },
  {
   "cell_type": "code",
   "execution_count": 38,
   "metadata": {},
   "outputs": [
    {
     "data": {
      "text/plain": [
       "(12, 12)"
      ]
     },
     "execution_count": 38,
     "metadata": {},
     "output_type": "execute_result"
    }
   ],
   "source": [
    "# TODO: filter the projects data set for project boardapprovaldate prior to April 27th, 1992 AND with countryname\n",
    "#  of either 'Bosnia and Herzegovina', 'Croatia', 'Kosovo', 'Macedonia', 'Serbia', or 'Sovenia'. Store the\n",
    "#  results in the republics variable\n",
    "\n",
    "#  TODO: so that it's easier to see all the data, keep only these columns:\n",
    "# ['regionname', 'countryname', 'lendinginstr', 'totalamt', 'boardapprovaldate',\n",
    "# 'location','GeoLocID', 'GeoLocName', 'Latitude','Longitude','Country', 'project_name']\n",
    "\n",
    "# TODO: sort the results by boardapprovaldate\n",
    "\n",
    "# this does not work well. contains shows more results\n",
    "# republics = projects[cols_keep][projects['countryname'].isin(republic_Yugoslavia)].sort_values(by='boardapprovaldate')\n",
    "\n",
    "republics = projects[cols_keep][((projects['countryname'].str.contains('Bosnia')) | \n",
    "         (projects['countryname'].str.contains('Croatia')) | \n",
    "         (projects['countryname'].str.contains('Kosovo')) | \n",
    "         (projects['countryname'].str.contains('Macedonia')) | \n",
    "         (projects['countryname'].str.contains('Montenegro')) | \n",
    "         (projects['countryname'].str.contains('Serbia')) | \n",
    "         (projects['countryname'].str.contains('Slovenia')))].sort_values(by='boardapprovaldate')\n",
    "\n",
    " \n",
    "republics = republics[republics['boardapprovaldate']<'1992-04-27']\n",
    "# show the results\n",
    "republics.shape"
   ]
  },
  {
   "cell_type": "code",
   "execution_count": 34,
   "metadata": {},
   "outputs": [
    {
     "data": {
      "text/plain": [
       "1983-07-26 00:00:00+00:00    4\n",
       "1987-10-13 00:00:00+00:00    3\n",
       "1987-03-31 00:00:00+00:00    2\n",
       "1989-05-23 00:00:00+00:00    2\n",
       "1980-02-01 00:00:00+00:00    1\n",
       "Name: boardapprovaldate, dtype: int64"
      ]
     },
     "execution_count": 34,
     "metadata": {},
     "output_type": "execute_result"
    }
   ],
   "source": [
    "republics.boardapprovaldate.value_counts()"
   ]
  },
  {
   "cell_type": "markdown",
   "metadata": {},
   "source": [
    "Are these projects also represented in the data labeled Yugoslavia? In the code cell below, filter for Yugoslavia projects approved between February 1st, 1980 and May 23rd, 1989 which are the minimum and maximum dates in the results above. Store the results in the yugoslavia variable.\n",
    "\n",
    "The goal is to see if there are any projects represented more than once in the data set."
   ]
  },
  {
   "cell_type": "code",
   "execution_count": 37,
   "metadata": {},
   "outputs": [
    {
     "data": {
      "text/plain": [
       "(31, 12)"
      ]
     },
     "execution_count": 37,
     "metadata": {},
     "output_type": "execute_result"
    }
   ],
   "source": [
    "# TODO: Filter the projects data for Yugoslavia projects between\n",
    "# February 1st, 1980 and May 23rd, 1989. Store the results in the\n",
    "# Yugoslavia variable. Keep the same columns as the previous code cell.\n",
    "# Sort the values by boardapprovaldate\n",
    "\n",
    "yugoslavia = yugoslavia[yugoslavia['boardapprovaldate'].between('1980-02-01', '1989-05-23')] \n",
    "\n",
    "# show the results\n",
    "yugoslavia.shape"
   ]
  },
  {
   "cell_type": "markdown",
   "metadata": {},
   "source": [
    "And as a final step, **try to see if there are any projects in the republics variable and yugoslavia variable that could be the same project.**\n",
    "\n",
    "There are multiple ways to do that. As a suggestion, find unique dates in the republics variable. Then separately find unique dates in the yugoslavia variable. Concatenate (ie append) the results together. And then count the number of times each date occurs in this list. If a date occurs twice, that means the same boardapprovaldate appeared in both the Yugoslavia data as well as in the republics data.\n",
    "\n",
    "You'll should find that there are three suspicious cases:\n",
    "\n",
    "* July 26th, 1983\n",
    "* March 31st, 1987\n",
    "* October 13th, 1987\n",
    "* May 23rd, 1989"
   ]
  },
  {
   "cell_type": "code",
   "execution_count": 46,
   "metadata": {},
   "outputs": [
    {
     "ename": "AttributeError",
     "evalue": "'DatetimeArray' object has no attribute 'tolist'",
     "output_type": "error",
     "traceback": [
      "\u001b[1;31m---------------------------------------------------------------------------\u001b[0m",
      "\u001b[1;31mAttributeError\u001b[0m                            Traceback (most recent call last)",
      "\u001b[1;32m<ipython-input-46-0d3ba8878011>\u001b[0m in \u001b[0;36m<module>\u001b[1;34m\u001b[0m\n\u001b[0;32m      2\u001b[0m \u001b[1;33m\u001b[0m\u001b[0m\n\u001b[0;32m      3\u001b[0m \u001b[1;31m# TODO: find the unique dates in the republics variable\u001b[0m\u001b[1;33m\u001b[0m\u001b[1;33m\u001b[0m\u001b[1;33m\u001b[0m\u001b[0m\n\u001b[1;32m----> 4\u001b[1;33m \u001b[0mrepublic_unique_dates\u001b[0m \u001b[1;33m=\u001b[0m \u001b[0mrepublics\u001b[0m\u001b[1;33m[\u001b[0m\u001b[1;34m'boardapprovaldate'\u001b[0m\u001b[1;33m]\u001b[0m\u001b[1;33m.\u001b[0m\u001b[0munique\u001b[0m\u001b[1;33m(\u001b[0m\u001b[1;33m)\u001b[0m\u001b[1;33m.\u001b[0m\u001b[0mtolist\u001b[0m\u001b[1;33m(\u001b[0m\u001b[1;33m)\u001b[0m\u001b[1;33m\u001b[0m\u001b[1;33m\u001b[0m\u001b[0m\n\u001b[0m\u001b[0;32m      5\u001b[0m \u001b[1;33m\u001b[0m\u001b[0m\n\u001b[0;32m      6\u001b[0m \u001b[1;31m# TODO: find the unique dates in the yugoslavia variable\u001b[0m\u001b[1;33m\u001b[0m\u001b[1;33m\u001b[0m\u001b[1;33m\u001b[0m\u001b[0m\n",
      "\u001b[1;31mAttributeError\u001b[0m: 'DatetimeArray' object has no attribute 'tolist'"
     ]
    }
   ],
   "source": [
    "\n",
    "# TODO: find the unique dates in the republics variable\n",
    "republic_unique_dates = republics['boardapprovaldate'].unique()\n",
    "\n",
    "# TODO: find the unique dates in the yugoslavia variable\n",
    "yugoslavia_unique_dates = yugoslavia['boardapprovaldate'].unique()"
   ]
  },
  {
   "cell_type": "code",
   "execution_count": 48,
   "metadata": {},
   "outputs": [
    {
     "data": {
      "text/plain": [
       "<DatetimeArray>\n",
       "['1980-02-01 00:00:00+00:00', '1983-07-26 00:00:00+00:00',\n",
       " '1987-03-31 00:00:00+00:00', '1987-10-13 00:00:00+00:00',\n",
       " '1989-05-23 00:00:00+00:00']\n",
       "Length: 5, dtype: datetime64[ns, UTC]"
      ]
     },
     "execution_count": 48,
     "metadata": {},
     "output_type": "execute_result"
    }
   ],
   "source": [
    "republic_unique_dates"
   ]
  },
  {
   "cell_type": "code",
   "execution_count": 43,
   "metadata": {},
   "outputs": [
    {
     "data": {
      "text/plain": [
       "<DatetimeArray>\n",
       "['1989-05-23 00:00:00+00:00', '1988-06-29 00:00:00+00:00',\n",
       " '1987-10-13 00:00:00+00:00', '1987-03-31 00:00:00+00:00',\n",
       " '1986-06-10 00:00:00+00:00', '1985-06-27 00:00:00+00:00',\n",
       " '1985-06-06 00:00:00+00:00', '1985-05-03 00:00:00+00:00',\n",
       " '1985-04-30 00:00:00+00:00', '1984-07-31 00:00:00+00:00',\n",
       " '1983-08-02 00:00:00+00:00', '1983-07-26 00:00:00+00:00',\n",
       " '1983-07-19 00:00:00+00:00', '1983-06-28 00:00:00+00:00',\n",
       " '1983-06-09 00:00:00+00:00', '1983-01-25 00:00:00+00:00',\n",
       " '1982-05-27 00:00:00+00:00', '1982-05-04 00:00:00+00:00',\n",
       " '1982-04-27 00:00:00+00:00', '1981-11-10 00:00:00+00:00',\n",
       " '1981-07-14 00:00:00+00:00', '1981-05-14 00:00:00+00:00',\n",
       " '1981-04-28 00:00:00+00:00', '1981-03-03 00:00:00+00:00',\n",
       " '1980-10-28 00:00:00+00:00', '1980-03-25 00:00:00+00:00',\n",
       " '1980-02-26 00:00:00+00:00']\n",
       "Length: 27, dtype: datetime64[ns, UTC]"
      ]
     },
     "execution_count": 43,
     "metadata": {},
     "output_type": "execute_result"
    }
   ],
   "source": [
    "yugoslavia_unique_dates"
   ]
  },
  {
   "cell_type": "code",
   "execution_count": 49,
   "metadata": {},
   "outputs": [],
   "source": [
    "import numpy as np"
   ]
  },
  {
   "cell_type": "code",
   "execution_count": 97,
   "metadata": {},
   "outputs": [],
   "source": [
    "# TODO: make a list of the results appending one list to the other\n",
    "dates = np.append(republic_unique_dates, yugoslavia_unique_dates)"
   ]
  },
  {
   "cell_type": "code",
   "execution_count": 98,
   "metadata": {},
   "outputs": [],
   "source": [
    "dates = pd.DataFrame(dates)[0].value_counts()"
   ]
  },
  {
   "cell_type": "code",
   "execution_count": 99,
   "metadata": {},
   "outputs": [
    {
     "data": {
      "text/plain": [
       "1987-10-13 00:00:00+00:00    2\n",
       "1989-05-23 00:00:00+00:00    2\n",
       "1983-07-26 00:00:00+00:00    2\n",
       "1987-03-31 00:00:00+00:00    2\n",
       "1982-05-04 00:00:00+00:00    1\n",
       "1983-08-02 00:00:00+00:00    1\n",
       "1980-10-28 00:00:00+00:00    1\n",
       "1988-06-29 00:00:00+00:00    1\n",
       "1980-02-26 00:00:00+00:00    1\n",
       "1980-03-25 00:00:00+00:00    1\n",
       "1981-03-03 00:00:00+00:00    1\n",
       "1983-06-28 00:00:00+00:00    1\n",
       "1985-06-06 00:00:00+00:00    1\n",
       "1981-04-28 00:00:00+00:00    1\n",
       "1985-05-03 00:00:00+00:00    1\n",
       "1985-04-30 00:00:00+00:00    1\n",
       "1980-02-01 00:00:00+00:00    1\n",
       "1984-07-31 00:00:00+00:00    1\n",
       "1986-06-10 00:00:00+00:00    1\n",
       "1982-05-27 00:00:00+00:00    1\n",
       "1983-01-25 00:00:00+00:00    1\n",
       "1981-07-14 00:00:00+00:00    1\n",
       "1983-06-09 00:00:00+00:00    1\n",
       "1985-06-27 00:00:00+00:00    1\n",
       "1983-07-19 00:00:00+00:00    1\n",
       "1982-04-27 00:00:00+00:00    1\n",
       "1981-11-10 00:00:00+00:00    1\n",
       "1981-05-14 00:00:00+00:00    1\n",
       "Name: 0, dtype: int64"
      ]
     },
     "execution_count": 99,
     "metadata": {},
     "output_type": "execute_result"
    }
   ],
   "source": [
    "dates"
   ]
  },
  {
   "cell_type": "code",
   "execution_count": 95,
   "metadata": {},
   "outputs": [
    {
     "data": {
      "text/plain": [
       "1987-10-13 00:00:00+00:00    2\n",
       "1989-05-23 00:00:00+00:00    2\n",
       "1983-07-26 00:00:00+00:00    2\n",
       "1987-03-31 00:00:00+00:00    2\n",
       "Name: 0, dtype: int64"
      ]
     },
     "execution_count": 95,
     "metadata": {},
     "output_type": "execute_result"
    }
   ],
   "source": [
    "dates[dates>1]"
   ]
  },
  {
   "cell_type": "code",
   "execution_count": null,
   "metadata": {},
   "outputs": [],
   "source": []
  },
  {
   "cell_type": "code",
   "execution_count": 96,
   "metadata": {},
   "outputs": [],
   "source": [
    "# method 2\n",
    "# TODO: print out the dates that appeared twice in the results\n",
    "unique_dates, count = np.unique(dates, return_counts=True)\n",
    "\n",
    "for i in range(len(unique_dates)):\n",
    "    if count[i] == 2:\n",
    "        print(unique_dates[i])"
   ]
  },
  {
   "cell_type": "markdown",
   "metadata": {},
   "source": [
    "# Conclusion\n",
    "\n",
    "On July 26th, 1983, for example, projects were approved for Bosnia and Herzegovina, Croatia, Macedonia, Slovenia, and Yugoslavia. The code below shows the projects for that date. You'll notice that Yugoslavia had two projects, one of which was called \"Power Transmission Project (03) Energy Managem...\". The projects in the other countries were all called \"POWER TRANS.III\". \n",
    "\n",
    "This looks like a case of duplicate data. What you end up doing with this knowledge would depend on the context. For example, if you wanted to get a true count for the total number of projects in the data set, should all of these projects be counted as one project? \n",
    "\n",
    "Run the code cell below to see the projects in question."
   ]
  },
  {
   "cell_type": "code",
   "execution_count": 40,
   "metadata": {},
   "outputs": [
    {
     "data": {
      "text/html": [
       "<div>\n",
       "<style scoped>\n",
       "    .dataframe tbody tr th:only-of-type {\n",
       "        vertical-align: middle;\n",
       "    }\n",
       "\n",
       "    .dataframe tbody tr th {\n",
       "        vertical-align: top;\n",
       "    }\n",
       "\n",
       "    .dataframe thead th {\n",
       "        text-align: right;\n",
       "    }\n",
       "</style>\n",
       "<table border=\"1\" class=\"dataframe\">\n",
       "  <thead>\n",
       "    <tr style=\"text-align: right;\">\n",
       "      <th></th>\n",
       "      <th>regionname</th>\n",
       "      <th>countryname</th>\n",
       "      <th>lendinginstr</th>\n",
       "      <th>totalamt</th>\n",
       "      <th>boardapprovaldate</th>\n",
       "      <th>location</th>\n",
       "      <th>GeoLocID</th>\n",
       "      <th>GeoLocName</th>\n",
       "      <th>Latitude</th>\n",
       "      <th>Longitude</th>\n",
       "      <th>Country</th>\n",
       "      <th>project_name</th>\n",
       "    </tr>\n",
       "  </thead>\n",
       "  <tbody>\n",
       "    <tr>\n",
       "      <td>13046</td>\n",
       "      <td>Europe and Central Asia</td>\n",
       "      <td>Socialist Federal Republic of Yugoslavia</td>\n",
       "      <td>Financial Intermediary Loan</td>\n",
       "      <td>70000000</td>\n",
       "      <td>1983-07-26 00:00:00+00:00</td>\n",
       "      <td>NaN</td>\n",
       "      <td>NaN</td>\n",
       "      <td>NaN</td>\n",
       "      <td>NaN</td>\n",
       "      <td>NaN</td>\n",
       "      <td>NaN</td>\n",
       "      <td>Industrial Credit Project (07)</td>\n",
       "    </tr>\n",
       "    <tr>\n",
       "      <td>13047</td>\n",
       "      <td>Europe and Central Asia</td>\n",
       "      <td>Socialist Federal Republic of Yugoslavia</td>\n",
       "      <td>Specific Investment Loan</td>\n",
       "      <td>120000000</td>\n",
       "      <td>1983-07-26 00:00:00+00:00</td>\n",
       "      <td>NaN</td>\n",
       "      <td>NaN</td>\n",
       "      <td>NaN</td>\n",
       "      <td>NaN</td>\n",
       "      <td>NaN</td>\n",
       "      <td>NaN</td>\n",
       "      <td>Power Transmission Project (03) Energy Managem...</td>\n",
       "    </tr>\n",
       "    <tr>\n",
       "      <td>13048</td>\n",
       "      <td>Europe and Central Asia</td>\n",
       "      <td>Bosnia and Herzegovina</td>\n",
       "      <td>Specific Investment Loan</td>\n",
       "      <td>0</td>\n",
       "      <td>1983-07-26 00:00:00+00:00</td>\n",
       "      <td>NaN</td>\n",
       "      <td>NaN</td>\n",
       "      <td>NaN</td>\n",
       "      <td>NaN</td>\n",
       "      <td>NaN</td>\n",
       "      <td>NaN</td>\n",
       "      <td>POWER TRANS.III</td>\n",
       "    </tr>\n",
       "    <tr>\n",
       "      <td>13051</td>\n",
       "      <td>Europe and Central Asia</td>\n",
       "      <td>Republic of Slovenia</td>\n",
       "      <td>Specific Investment Loan</td>\n",
       "      <td>0</td>\n",
       "      <td>1983-07-26 00:00:00+00:00</td>\n",
       "      <td>NaN</td>\n",
       "      <td>NaN</td>\n",
       "      <td>NaN</td>\n",
       "      <td>NaN</td>\n",
       "      <td>NaN</td>\n",
       "      <td>NaN</td>\n",
       "      <td>POWER TRANS.III</td>\n",
       "    </tr>\n",
       "    <tr>\n",
       "      <td>13050</td>\n",
       "      <td>Europe and Central Asia</td>\n",
       "      <td>Macedonia</td>\n",
       "      <td>Specific Investment Loan</td>\n",
       "      <td>0</td>\n",
       "      <td>1983-07-26 00:00:00+00:00</td>\n",
       "      <td>NaN</td>\n",
       "      <td>NaN</td>\n",
       "      <td>NaN</td>\n",
       "      <td>NaN</td>\n",
       "      <td>NaN</td>\n",
       "      <td>NaN</td>\n",
       "      <td>POWER TRANS.III</td>\n",
       "    </tr>\n",
       "    <tr>\n",
       "      <td>13049</td>\n",
       "      <td>Europe and Central Asia</td>\n",
       "      <td>Republic of Croatia</td>\n",
       "      <td>Specific Investment Loan</td>\n",
       "      <td>0</td>\n",
       "      <td>1983-07-26 00:00:00+00:00</td>\n",
       "      <td>NaN</td>\n",
       "      <td>NaN</td>\n",
       "      <td>NaN</td>\n",
       "      <td>NaN</td>\n",
       "      <td>NaN</td>\n",
       "      <td>NaN</td>\n",
       "      <td>POWER TRANS.III</td>\n",
       "    </tr>\n",
       "  </tbody>\n",
       "</table>\n",
       "</div>"
      ],
      "text/plain": [
       "                    regionname                               countryname  \\\n",
       "13046  Europe and Central Asia  Socialist Federal Republic of Yugoslavia   \n",
       "13047  Europe and Central Asia  Socialist Federal Republic of Yugoslavia   \n",
       "13048  Europe and Central Asia                    Bosnia and Herzegovina   \n",
       "13051  Europe and Central Asia                      Republic of Slovenia   \n",
       "13050  Europe and Central Asia                                 Macedonia   \n",
       "13049  Europe and Central Asia                       Republic of Croatia   \n",
       "\n",
       "                      lendinginstr   totalamt         boardapprovaldate  \\\n",
       "13046  Financial Intermediary Loan   70000000 1983-07-26 00:00:00+00:00   \n",
       "13047     Specific Investment Loan  120000000 1983-07-26 00:00:00+00:00   \n",
       "13048     Specific Investment Loan          0 1983-07-26 00:00:00+00:00   \n",
       "13051     Specific Investment Loan          0 1983-07-26 00:00:00+00:00   \n",
       "13050     Specific Investment Loan          0 1983-07-26 00:00:00+00:00   \n",
       "13049     Specific Investment Loan          0 1983-07-26 00:00:00+00:00   \n",
       "\n",
       "      location GeoLocID GeoLocName Latitude Longitude Country  \\\n",
       "13046      NaN      NaN        NaN      NaN       NaN     NaN   \n",
       "13047      NaN      NaN        NaN      NaN       NaN     NaN   \n",
       "13048      NaN      NaN        NaN      NaN       NaN     NaN   \n",
       "13051      NaN      NaN        NaN      NaN       NaN     NaN   \n",
       "13050      NaN      NaN        NaN      NaN       NaN     NaN   \n",
       "13049      NaN      NaN        NaN      NaN       NaN     NaN   \n",
       "\n",
       "                                            project_name  \n",
       "13046                     Industrial Credit Project (07)  \n",
       "13047  Power Transmission Project (03) Energy Managem...  \n",
       "13048                                    POWER TRANS.III  \n",
       "13051                                    POWER TRANS.III  \n",
       "13050                                    POWER TRANS.III  \n",
       "13049                                    POWER TRANS.III  "
      ]
     },
     "execution_count": 40,
     "metadata": {},
     "output_type": "execute_result"
    }
   ],
   "source": [
    "import datetime\n",
    "\n",
    "# run this code cell to see the duplicate data\n",
    "pd.concat([yugoslavia[yugoslavia['boardapprovaldate'] == '1983, 7, 26'], republics[republics['boardapprovaldate'] == '1983, 7, 26']])"
   ]
  },
  {
   "cell_type": "code",
   "execution_count": null,
   "metadata": {},
   "outputs": [],
   "source": []
  }
 ],
 "metadata": {
  "kernelspec": {
   "display_name": "Python 3",
   "language": "python",
   "name": "python3"
  },
  "language_info": {
   "codemirror_mode": {
    "name": "ipython",
    "version": 3
   },
   "file_extension": ".py",
   "mimetype": "text/x-python",
   "name": "python",
   "nbconvert_exporter": "python",
   "pygments_lexer": "ipython3",
   "version": "3.7.4"
  }
 },
 "nbformat": 4,
 "nbformat_minor": 2
}
