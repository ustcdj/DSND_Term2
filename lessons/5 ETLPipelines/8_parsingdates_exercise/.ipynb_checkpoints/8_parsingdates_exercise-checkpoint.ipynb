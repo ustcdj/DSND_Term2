{
 "cells": [
  {
   "cell_type": "markdown",
   "metadata": {},
   "source": [
    "# Parsing Dates\n",
    "\n",
    "Another common data transformation involves parsing dates. Parsing generally means that you start with a string and then transform that string into a different data type. In this case, that means taking a date in the format of a string and transforming the string into a date type. Run the next cell to see an example."
   ]
  },
  {
   "cell_type": "code",
   "execution_count": 1,
   "metadata": {},
   "outputs": [
    {
     "data": {
      "text/plain": [
       "Timestamp('2017-01-01 00:00:00')"
      ]
     },
     "execution_count": 1,
     "metadata": {},
     "output_type": "execute_result"
    }
   ],
   "source": [
    "import pandas as pd\n",
    "parsed_date = pd.to_datetime('January 1st, 2017')\n",
    "parsed_date"
   ]
  },
  {
   "cell_type": "code",
   "execution_count": 2,
   "metadata": {},
   "outputs": [
    {
     "data": {
      "text/plain": [
       "1"
      ]
     },
     "execution_count": 2,
     "metadata": {},
     "output_type": "execute_result"
    }
   ],
   "source": [
    "parsed_date.month"
   ]
  },
  {
   "cell_type": "code",
   "execution_count": 3,
   "metadata": {},
   "outputs": [
    {
     "data": {
      "text/plain": [
       "2017"
      ]
     },
     "execution_count": 3,
     "metadata": {},
     "output_type": "execute_result"
    }
   ],
   "source": [
    "parsed_date.year"
   ]
  },
  {
   "cell_type": "code",
   "execution_count": 4,
   "metadata": {},
   "outputs": [
    {
     "data": {
      "text/plain": [
       "0"
      ]
     },
     "execution_count": 4,
     "metadata": {},
     "output_type": "execute_result"
    }
   ],
   "source": [
    "parsed_date.second"
   ]
  },
  {
   "cell_type": "markdown",
   "metadata": {},
   "source": [
    "Sometimes date string are formatted in unexpected ways. For example, in the United States, dates are given in the month first and then the day. That is what pandas expects by default. However, some countries write the date with the day first and then the month. Run the next three examples to see Panda's default behavior and how you can specify the date formatting."
   ]
  },
  {
   "cell_type": "code",
   "execution_count": 5,
   "metadata": {},
   "outputs": [
    {
     "data": {
      "text/plain": [
       "5"
      ]
     },
     "execution_count": 5,
     "metadata": {},
     "output_type": "execute_result"
    }
   ],
   "source": [
    "parsed_date = pd.to_datetime('5/3/2017 5:30')\n",
    "parsed_date.month"
   ]
  },
  {
   "cell_type": "code",
   "execution_count": 6,
   "metadata": {},
   "outputs": [
    {
     "data": {
      "text/plain": [
       "5"
      ]
     },
     "execution_count": 6,
     "metadata": {},
     "output_type": "execute_result"
    }
   ],
   "source": [
    "parsed_date = pd.to_datetime('3/5/2017 5:30', format='%d/%m/%Y %H:%M')\n",
    "parsed_date.month"
   ]
  },
  {
   "cell_type": "code",
   "execution_count": 7,
   "metadata": {},
   "outputs": [
    {
     "data": {
      "text/plain": [
       "5"
      ]
     },
     "execution_count": 7,
     "metadata": {},
     "output_type": "execute_result"
    }
   ],
   "source": [
    "parsed_date = pd.to_datetime('5/3/2017 5:30', format='%m/%d/%Y %H:%M')\n",
    "parsed_date.month"
   ]
  },
  {
   "cell_type": "markdown",
   "metadata": {},
   "source": [
    "The formatting abbreviations are actually part of the python standard. You can see examples at [this link](http://strftime.org/)."
   ]
  },
  {
   "cell_type": "markdown",
   "metadata": {},
   "source": [
    "# Part 1 - Practice Parsing Dates\n",
    "\n",
    "Run the code cells below to import the World Bank projects data. The last line of the code outputs all of the column names in the data frame."
   ]
  },
  {
   "cell_type": "code",
   "execution_count": 8,
   "metadata": {},
   "outputs": [
    {
     "data": {
      "text/plain": [
       "Index(['id', 'regionname', 'countryname', 'prodline', 'lendinginstr',\n",
       "       'lendinginstrtype', 'envassesmentcategorycode', 'supplementprojectflg',\n",
       "       'productlinetype', 'projectstatusdisplay', 'status', 'project_name',\n",
       "       'boardapprovaldate', 'board_approval_month', 'closingdate',\n",
       "       'lendprojectcost', 'ibrdcommamt', 'idacommamt', 'totalamt', 'grantamt',\n",
       "       'borrower', 'impagency', 'url', 'projectdoc ', 'majorsector_percent ',\n",
       "       'sector1', 'sector2', 'sector3', 'sector4', 'sector5', 'sector',\n",
       "       'mjsector1', 'mjsector2', 'mjsector3', 'mjsector4', 'mjsector5',\n",
       "       'mjsector', 'theme1', 'theme2', 'theme3', 'theme4', 'theme5', 'theme ',\n",
       "       'goal', 'financier', 'mjtheme1name', 'mjtheme2name', 'mjtheme3name',\n",
       "       'mjtheme4name', 'mjtheme5name', 'location', 'GeoLocID', 'GeoLocName',\n",
       "       'Latitude', 'Longitude', 'Country'],\n",
       "      dtype='object')"
      ]
     },
     "execution_count": 8,
     "metadata": {},
     "output_type": "execute_result"
    }
   ],
   "source": [
    "# Run this code cell. Read in the projects data set with all columns type string\n",
    "df_projects = pd.read_csv('../data/projects_data.csv', dtype=str)\n",
    "df_projects.drop(['Unnamed: 56'], axis=1, inplace=True)\n",
    "df_projects.columns"
   ]
  },
  {
   "cell_type": "markdown",
   "metadata": {},
   "source": [
    "Notice there are three columns associated with dates: boardapprovaldate, board_approval_month, and closingdate. Run the code cell below to see what these values look like."
   ]
  },
  {
   "cell_type": "code",
   "execution_count": 10,
   "metadata": {},
   "outputs": [
    {
     "data": {
      "text/plain": [
       "boardapprovaldate       object\n",
       "board_approval_month    object\n",
       "closingdate             object\n",
       "dtype: object"
      ]
     },
     "execution_count": 10,
     "metadata": {},
     "output_type": "execute_result"
    }
   ],
   "source": [
    "df_projects[['boardapprovaldate', 'board_approval_month', 'closingdate']].dtypes"
   ]
  },
  {
   "cell_type": "code",
   "execution_count": 11,
   "metadata": {},
   "outputs": [
    {
     "data": {
      "text/html": [
       "<div>\n",
       "<style scoped>\n",
       "    .dataframe tbody tr th:only-of-type {\n",
       "        vertical-align: middle;\n",
       "    }\n",
       "\n",
       "    .dataframe tbody tr th {\n",
       "        vertical-align: top;\n",
       "    }\n",
       "\n",
       "    .dataframe thead th {\n",
       "        text-align: right;\n",
       "    }\n",
       "</style>\n",
       "<table border=\"1\" class=\"dataframe\">\n",
       "  <thead>\n",
       "    <tr style=\"text-align: right;\">\n",
       "      <th></th>\n",
       "      <th>boardapprovaldate</th>\n",
       "      <th>board_approval_month</th>\n",
       "      <th>closingdate</th>\n",
       "    </tr>\n",
       "  </thead>\n",
       "  <tbody>\n",
       "    <tr>\n",
       "      <td>0</td>\n",
       "      <td>2018-06-28T00:00:00Z</td>\n",
       "      <td>June</td>\n",
       "      <td>NaN</td>\n",
       "    </tr>\n",
       "    <tr>\n",
       "      <td>1</td>\n",
       "      <td>2018-06-28T00:00:00Z</td>\n",
       "      <td>June</td>\n",
       "      <td>2023-12-31T00:00:00Z</td>\n",
       "    </tr>\n",
       "    <tr>\n",
       "      <td>2</td>\n",
       "      <td>2018-06-28T00:00:00Z</td>\n",
       "      <td>June</td>\n",
       "      <td>NaN</td>\n",
       "    </tr>\n",
       "    <tr>\n",
       "      <td>3</td>\n",
       "      <td>2018-06-27T00:00:00Z</td>\n",
       "      <td>June</td>\n",
       "      <td>2023-06-28T00:00:00Z</td>\n",
       "    </tr>\n",
       "    <tr>\n",
       "      <td>4</td>\n",
       "      <td>2018-06-27T00:00:00Z</td>\n",
       "      <td>June</td>\n",
       "      <td>2023-05-31T00:00:00Z</td>\n",
       "    </tr>\n",
       "  </tbody>\n",
       "</table>\n",
       "</div>"
      ],
      "text/plain": [
       "      boardapprovaldate board_approval_month           closingdate\n",
       "0  2018-06-28T00:00:00Z                 June                   NaN\n",
       "1  2018-06-28T00:00:00Z                 June  2023-12-31T00:00:00Z\n",
       "2  2018-06-28T00:00:00Z                 June                   NaN\n",
       "3  2018-06-27T00:00:00Z                 June  2023-06-28T00:00:00Z\n",
       "4  2018-06-27T00:00:00Z                 June  2023-05-31T00:00:00Z"
      ]
     },
     "execution_count": 11,
     "metadata": {},
     "output_type": "execute_result"
    }
   ],
   "source": [
    "# Run this code cell\n",
    "df_projects[['boardapprovaldate', 'board_approval_month', 'closingdate']].head(5)"
   ]
  },
  {
   "cell_type": "markdown",
   "metadata": {},
   "source": [
    "Use the pandas to_datetime method to convert the boardapprovaldate and closingdate columns into datetime objects."
   ]
  },
  {
   "cell_type": "code",
   "execution_count": 12,
   "metadata": {},
   "outputs": [],
   "source": [
    "# TODO: Use the pandas to_datetime method to convert these two columns \n",
    "#   (boardapprovaldate, closingdate) into date times.\n",
    "# HINT: It's easier to do this one column at a time\n",
    "\n",
    "df_projects['boardapprovaldate'] = pd.to_datetime(df_projects['boardapprovaldate'])\n",
    "df_projects['closingdate'] = pd.to_datetime(df_projects['closingdate'])"
   ]
  },
  {
   "cell_type": "code",
   "execution_count": 13,
   "metadata": {},
   "outputs": [
    {
     "data": {
      "text/html": [
       "<div>\n",
       "<style scoped>\n",
       "    .dataframe tbody tr th:only-of-type {\n",
       "        vertical-align: middle;\n",
       "    }\n",
       "\n",
       "    .dataframe tbody tr th {\n",
       "        vertical-align: top;\n",
       "    }\n",
       "\n",
       "    .dataframe thead th {\n",
       "        text-align: right;\n",
       "    }\n",
       "</style>\n",
       "<table border=\"1\" class=\"dataframe\">\n",
       "  <thead>\n",
       "    <tr style=\"text-align: right;\">\n",
       "      <th></th>\n",
       "      <th>boardapprovaldate</th>\n",
       "      <th>board_approval_month</th>\n",
       "      <th>closingdate</th>\n",
       "    </tr>\n",
       "  </thead>\n",
       "  <tbody>\n",
       "    <tr>\n",
       "      <td>0</td>\n",
       "      <td>2018-06-28 00:00:00+00:00</td>\n",
       "      <td>June</td>\n",
       "      <td>NaT</td>\n",
       "    </tr>\n",
       "    <tr>\n",
       "      <td>1</td>\n",
       "      <td>2018-06-28 00:00:00+00:00</td>\n",
       "      <td>June</td>\n",
       "      <td>2023-12-31 00:00:00+00:00</td>\n",
       "    </tr>\n",
       "    <tr>\n",
       "      <td>2</td>\n",
       "      <td>2018-06-28 00:00:00+00:00</td>\n",
       "      <td>June</td>\n",
       "      <td>NaT</td>\n",
       "    </tr>\n",
       "    <tr>\n",
       "      <td>3</td>\n",
       "      <td>2018-06-27 00:00:00+00:00</td>\n",
       "      <td>June</td>\n",
       "      <td>2023-06-28 00:00:00+00:00</td>\n",
       "    </tr>\n",
       "    <tr>\n",
       "      <td>4</td>\n",
       "      <td>2018-06-27 00:00:00+00:00</td>\n",
       "      <td>June</td>\n",
       "      <td>2023-05-31 00:00:00+00:00</td>\n",
       "    </tr>\n",
       "  </tbody>\n",
       "</table>\n",
       "</div>"
      ],
      "text/plain": [
       "          boardapprovaldate board_approval_month               closingdate\n",
       "0 2018-06-28 00:00:00+00:00                 June                       NaT\n",
       "1 2018-06-28 00:00:00+00:00                 June 2023-12-31 00:00:00+00:00\n",
       "2 2018-06-28 00:00:00+00:00                 June                       NaT\n",
       "3 2018-06-27 00:00:00+00:00                 June 2023-06-28 00:00:00+00:00\n",
       "4 2018-06-27 00:00:00+00:00                 June 2023-05-31 00:00:00+00:00"
      ]
     },
     "execution_count": 13,
     "metadata": {},
     "output_type": "execute_result"
    }
   ],
   "source": [
    "df_projects[['boardapprovaldate', 'board_approval_month', 'closingdate']].head(5)"
   ]
  },
  {
   "cell_type": "code",
   "execution_count": 14,
   "metadata": {},
   "outputs": [
    {
     "data": {
      "text/plain": [
       "0        0.0\n",
       "1        0.0\n",
       "2        0.0\n",
       "3        0.0\n",
       "4        0.0\n",
       "        ... \n",
       "18243    0.0\n",
       "18244    0.0\n",
       "18245    0.0\n",
       "18246    0.0\n",
       "18247    0.0\n",
       "Name: boardapprovaldate, Length: 18248, dtype: float64"
      ]
     },
     "execution_count": 14,
     "metadata": {},
     "output_type": "execute_result"
    }
   ],
   "source": [
    "# Run the code cells below to see how you can access the different parts of the datetime objects\n",
    "# Series.dt gives access to the datetime object as explained here: \n",
    "# https://pandas.pydata.org/pandas-docs/stable/generated/pandas.Series.dt.html\n",
    "df_projects['boardapprovaldate'].dt.second"
   ]
  },
  {
   "cell_type": "code",
   "execution_count": 15,
   "metadata": {},
   "outputs": [
    {
     "data": {
      "text/plain": [
       "0        6.0\n",
       "1        6.0\n",
       "2        6.0\n",
       "3        6.0\n",
       "4        6.0\n",
       "        ... \n",
       "18243    3.0\n",
       "18244    8.0\n",
       "18245    8.0\n",
       "18246    8.0\n",
       "18247    5.0\n",
       "Name: boardapprovaldate, Length: 18248, dtype: float64"
      ]
     },
     "execution_count": 15,
     "metadata": {},
     "output_type": "execute_result"
    }
   ],
   "source": [
    "# Run this code cell to see the output\n",
    "df_projects['boardapprovaldate'].dt.month"
   ]
  },
  {
   "cell_type": "code",
   "execution_count": 16,
   "metadata": {},
   "outputs": [
    {
     "data": {
      "text/plain": [
       "0        3.0\n",
       "1        3.0\n",
       "2        3.0\n",
       "3        2.0\n",
       "4        2.0\n",
       "        ... \n",
       "18243    3.0\n",
       "18244    3.0\n",
       "18245    4.0\n",
       "18246    3.0\n",
       "18247    4.0\n",
       "Name: boardapprovaldate, Length: 18248, dtype: float64"
      ]
     },
     "execution_count": 16,
     "metadata": {},
     "output_type": "execute_result"
    }
   ],
   "source": [
    "# Run this code to see the output\n",
    "# weekday represents the day of the week from 0 (Monday) to 6 (Sunday).\n",
    "df_projects['boardapprovaldate'].dt.weekday"
   ]
  },
  {
   "cell_type": "markdown",
   "metadata": {},
   "source": [
    "# Part 2 - Create new columns\n",
    "\n",
    "Now that the boardapprovaldate and closingdate are in datetime formats, create a few new columns in the df_projects data frame:\n",
    "* approvalyear\n",
    "* approvalday\n",
    "* approvalweekday\n",
    "* closingyear\n",
    "* closingday\n",
    "* closingweekday"
   ]
  },
  {
   "cell_type": "code",
   "execution_count": 17,
   "metadata": {},
   "outputs": [],
   "source": [
    "### \n",
    "# TODO create the follwing new columns in the df_projects data frame\n",
    "#\n",
    "# approvalyear\n",
    "# approvalday\n",
    "# approvalweekday\n",
    "# closingyear\n",
    "# closingday\n",
    "# closingweekday\n",
    "#\n",
    "#\n",
    "###\n",
    "\n",
    "df_projects['approvalyear'] = df_projects['boardapprovaldate'].dt.year\n",
    "df_projects['approvalday'] = df_projects['boardapprovaldate'].dt.day\n",
    "df_projects['approvalweekday'] = df_projects['boardapprovaldate'].dt.weekday\n",
    "df_projects['closingyear'] = df_projects['closingdate'].dt.year\n",
    "df_projects['closingday'] = df_projects['closingdate'].dt.day\n",
    "df_projects['closingweekday'] = df_projects['closingdate'].dt.weekday"
   ]
  },
  {
   "cell_type": "code",
   "execution_count": 18,
   "metadata": {},
   "outputs": [
    {
     "data": {
      "text/html": [
       "<div>\n",
       "<style scoped>\n",
       "    .dataframe tbody tr th:only-of-type {\n",
       "        vertical-align: middle;\n",
       "    }\n",
       "\n",
       "    .dataframe tbody tr th {\n",
       "        vertical-align: top;\n",
       "    }\n",
       "\n",
       "    .dataframe thead th {\n",
       "        text-align: right;\n",
       "    }\n",
       "</style>\n",
       "<table border=\"1\" class=\"dataframe\">\n",
       "  <thead>\n",
       "    <tr style=\"text-align: right;\">\n",
       "      <th></th>\n",
       "      <th>id</th>\n",
       "      <th>regionname</th>\n",
       "      <th>countryname</th>\n",
       "      <th>prodline</th>\n",
       "      <th>lendinginstr</th>\n",
       "      <th>lendinginstrtype</th>\n",
       "      <th>envassesmentcategorycode</th>\n",
       "      <th>supplementprojectflg</th>\n",
       "      <th>productlinetype</th>\n",
       "      <th>projectstatusdisplay</th>\n",
       "      <th>...</th>\n",
       "      <th>GeoLocName</th>\n",
       "      <th>Latitude</th>\n",
       "      <th>Longitude</th>\n",
       "      <th>Country</th>\n",
       "      <th>approvalyear</th>\n",
       "      <th>approvalday</th>\n",
       "      <th>approvalweekday</th>\n",
       "      <th>closingyear</th>\n",
       "      <th>closingday</th>\n",
       "      <th>closingweekday</th>\n",
       "    </tr>\n",
       "  </thead>\n",
       "  <tbody>\n",
       "    <tr>\n",
       "      <td>0</td>\n",
       "      <td>P162228</td>\n",
       "      <td>Other</td>\n",
       "      <td>World;World</td>\n",
       "      <td>RE</td>\n",
       "      <td>Investment Project Financing</td>\n",
       "      <td>IN</td>\n",
       "      <td>C</td>\n",
       "      <td>N</td>\n",
       "      <td>L</td>\n",
       "      <td>Active</td>\n",
       "      <td>...</td>\n",
       "      <td>NaN</td>\n",
       "      <td>NaN</td>\n",
       "      <td>NaN</td>\n",
       "      <td>NaN</td>\n",
       "      <td>2018.0</td>\n",
       "      <td>28.0</td>\n",
       "      <td>3.0</td>\n",
       "      <td>NaN</td>\n",
       "      <td>NaN</td>\n",
       "      <td>NaN</td>\n",
       "    </tr>\n",
       "    <tr>\n",
       "      <td>1</td>\n",
       "      <td>P163962</td>\n",
       "      <td>Africa</td>\n",
       "      <td>Democratic Republic of the Congo;Democratic Re...</td>\n",
       "      <td>PE</td>\n",
       "      <td>Investment Project Financing</td>\n",
       "      <td>IN</td>\n",
       "      <td>B</td>\n",
       "      <td>N</td>\n",
       "      <td>L</td>\n",
       "      <td>Active</td>\n",
       "      <td>...</td>\n",
       "      <td>NaN</td>\n",
       "      <td>NaN</td>\n",
       "      <td>NaN</td>\n",
       "      <td>NaN</td>\n",
       "      <td>2018.0</td>\n",
       "      <td>28.0</td>\n",
       "      <td>3.0</td>\n",
       "      <td>2023.0</td>\n",
       "      <td>31.0</td>\n",
       "      <td>6.0</td>\n",
       "    </tr>\n",
       "    <tr>\n",
       "      <td>2</td>\n",
       "      <td>P167672</td>\n",
       "      <td>South Asia</td>\n",
       "      <td>People's Republic of Bangladesh;People's Repub...</td>\n",
       "      <td>PE</td>\n",
       "      <td>Investment Project Financing</td>\n",
       "      <td>IN</td>\n",
       "      <td>NaN</td>\n",
       "      <td>Y</td>\n",
       "      <td>L</td>\n",
       "      <td>Active</td>\n",
       "      <td>...</td>\n",
       "      <td>NaN</td>\n",
       "      <td>NaN</td>\n",
       "      <td>NaN</td>\n",
       "      <td>NaN</td>\n",
       "      <td>2018.0</td>\n",
       "      <td>28.0</td>\n",
       "      <td>3.0</td>\n",
       "      <td>NaN</td>\n",
       "      <td>NaN</td>\n",
       "      <td>NaN</td>\n",
       "    </tr>\n",
       "    <tr>\n",
       "      <td>3</td>\n",
       "      <td>P158768</td>\n",
       "      <td>South Asia</td>\n",
       "      <td>Islamic  Republic of Afghanistan;Islamic  Repu...</td>\n",
       "      <td>PE</td>\n",
       "      <td>Investment Project Financing</td>\n",
       "      <td>IN</td>\n",
       "      <td>A</td>\n",
       "      <td>N</td>\n",
       "      <td>L</td>\n",
       "      <td>Active</td>\n",
       "      <td>...</td>\n",
       "      <td>NaN</td>\n",
       "      <td>NaN</td>\n",
       "      <td>NaN</td>\n",
       "      <td>NaN</td>\n",
       "      <td>2018.0</td>\n",
       "      <td>27.0</td>\n",
       "      <td>2.0</td>\n",
       "      <td>2023.0</td>\n",
       "      <td>28.0</td>\n",
       "      <td>2.0</td>\n",
       "    </tr>\n",
       "    <tr>\n",
       "      <td>4</td>\n",
       "      <td>P161364</td>\n",
       "      <td>Africa</td>\n",
       "      <td>Federal Republic of Nigeria;Federal Republic o...</td>\n",
       "      <td>PE</td>\n",
       "      <td>Investment Project Financing</td>\n",
       "      <td>IN</td>\n",
       "      <td>B</td>\n",
       "      <td>N</td>\n",
       "      <td>L</td>\n",
       "      <td>Active</td>\n",
       "      <td>...</td>\n",
       "      <td>Ogun State;Niger State;Abia State;Edo;Kebbi St...</td>\n",
       "      <td>7;10;5.41667;6.5;11.5;8</td>\n",
       "      <td>3.58333;6;7.5;6;4;10.5</td>\n",
       "      <td>NG;NG;NG;NG;NG;NG</td>\n",
       "      <td>2018.0</td>\n",
       "      <td>27.0</td>\n",
       "      <td>2.0</td>\n",
       "      <td>2023.0</td>\n",
       "      <td>31.0</td>\n",
       "      <td>2.0</td>\n",
       "    </tr>\n",
       "    <tr>\n",
       "      <td>...</td>\n",
       "      <td>...</td>\n",
       "      <td>...</td>\n",
       "      <td>...</td>\n",
       "      <td>...</td>\n",
       "      <td>...</td>\n",
       "      <td>...</td>\n",
       "      <td>...</td>\n",
       "      <td>...</td>\n",
       "      <td>...</td>\n",
       "      <td>...</td>\n",
       "      <td>...</td>\n",
       "      <td>...</td>\n",
       "      <td>...</td>\n",
       "      <td>...</td>\n",
       "      <td>...</td>\n",
       "      <td>...</td>\n",
       "      <td>...</td>\n",
       "      <td>...</td>\n",
       "      <td>...</td>\n",
       "      <td>...</td>\n",
       "      <td>...</td>\n",
       "    </tr>\n",
       "    <tr>\n",
       "      <td>18243</td>\n",
       "      <td>P006578</td>\n",
       "      <td>Latin America and Caribbean</td>\n",
       "      <td>Republic of Chile;Republic of Chile</td>\n",
       "      <td>PE</td>\n",
       "      <td>Specific Investment Loan</td>\n",
       "      <td>IN</td>\n",
       "      <td>NaN</td>\n",
       "      <td>N</td>\n",
       "      <td>L</td>\n",
       "      <td>Closed</td>\n",
       "      <td>...</td>\n",
       "      <td>NaN</td>\n",
       "      <td>NaN</td>\n",
       "      <td>NaN</td>\n",
       "      <td>NaN</td>\n",
       "      <td>1948.0</td>\n",
       "      <td>25.0</td>\n",
       "      <td>3.0</td>\n",
       "      <td>1954.0</td>\n",
       "      <td>31.0</td>\n",
       "      <td>4.0</td>\n",
       "    </tr>\n",
       "    <tr>\n",
       "      <td>18244</td>\n",
       "      <td>P037451</td>\n",
       "      <td>Europe and Central Asia</td>\n",
       "      <td>Grand Duchy of Luxembourg;Grand Duchy of Luxem...</td>\n",
       "      <td>PE</td>\n",
       "      <td>Structural Adjustment Loan</td>\n",
       "      <td>AD</td>\n",
       "      <td>NaN</td>\n",
       "      <td>N</td>\n",
       "      <td>L</td>\n",
       "      <td>Closed</td>\n",
       "      <td>...</td>\n",
       "      <td>NaN</td>\n",
       "      <td>NaN</td>\n",
       "      <td>NaN</td>\n",
       "      <td>NaN</td>\n",
       "      <td>1947.0</td>\n",
       "      <td>28.0</td>\n",
       "      <td>3.0</td>\n",
       "      <td>1949.0</td>\n",
       "      <td>31.0</td>\n",
       "      <td>3.0</td>\n",
       "    </tr>\n",
       "    <tr>\n",
       "      <td>18245</td>\n",
       "      <td>P037362</td>\n",
       "      <td>Europe and Central Asia</td>\n",
       "      <td>Kingdom of Denmark;Kingdom of Denmark</td>\n",
       "      <td>PE</td>\n",
       "      <td>Structural Adjustment Loan</td>\n",
       "      <td>AD</td>\n",
       "      <td>NaN</td>\n",
       "      <td>N</td>\n",
       "      <td>L</td>\n",
       "      <td>Closed</td>\n",
       "      <td>...</td>\n",
       "      <td>NaN</td>\n",
       "      <td>NaN</td>\n",
       "      <td>NaN</td>\n",
       "      <td>NaN</td>\n",
       "      <td>1947.0</td>\n",
       "      <td>22.0</td>\n",
       "      <td>4.0</td>\n",
       "      <td>1949.0</td>\n",
       "      <td>31.0</td>\n",
       "      <td>3.0</td>\n",
       "    </tr>\n",
       "    <tr>\n",
       "      <td>18246</td>\n",
       "      <td>P037452</td>\n",
       "      <td>Europe and Central Asia</td>\n",
       "      <td>Kingdom of the Netherlands;Kingdom of the Neth...</td>\n",
       "      <td>PE</td>\n",
       "      <td>Structural Adjustment Loan</td>\n",
       "      <td>AD</td>\n",
       "      <td>NaN</td>\n",
       "      <td>N</td>\n",
       "      <td>L</td>\n",
       "      <td>Closed</td>\n",
       "      <td>...</td>\n",
       "      <td>NaN</td>\n",
       "      <td>NaN</td>\n",
       "      <td>NaN</td>\n",
       "      <td>NaN</td>\n",
       "      <td>1947.0</td>\n",
       "      <td>7.0</td>\n",
       "      <td>3.0</td>\n",
       "      <td>1948.0</td>\n",
       "      <td>30.0</td>\n",
       "      <td>2.0</td>\n",
       "    </tr>\n",
       "    <tr>\n",
       "      <td>18247</td>\n",
       "      <td>P037383</td>\n",
       "      <td>Europe and Central Asia</td>\n",
       "      <td>French Republic;French Republic</td>\n",
       "      <td>PE</td>\n",
       "      <td>Structural Adjustment Loan</td>\n",
       "      <td>AD</td>\n",
       "      <td>NaN</td>\n",
       "      <td>N</td>\n",
       "      <td>L</td>\n",
       "      <td>Closed</td>\n",
       "      <td>...</td>\n",
       "      <td>NaN</td>\n",
       "      <td>NaN</td>\n",
       "      <td>NaN</td>\n",
       "      <td>NaN</td>\n",
       "      <td>1947.0</td>\n",
       "      <td>9.0</td>\n",
       "      <td>4.0</td>\n",
       "      <td>1947.0</td>\n",
       "      <td>31.0</td>\n",
       "      <td>2.0</td>\n",
       "    </tr>\n",
       "  </tbody>\n",
       "</table>\n",
       "<p>18248 rows × 62 columns</p>\n",
       "</div>"
      ],
      "text/plain": [
       "            id                   regionname  \\\n",
       "0      P162228                        Other   \n",
       "1      P163962                       Africa   \n",
       "2      P167672                   South Asia   \n",
       "3      P158768                   South Asia   \n",
       "4      P161364                       Africa   \n",
       "...        ...                          ...   \n",
       "18243  P006578  Latin America and Caribbean   \n",
       "18244  P037451      Europe and Central Asia   \n",
       "18245  P037362      Europe and Central Asia   \n",
       "18246  P037452      Europe and Central Asia   \n",
       "18247  P037383      Europe and Central Asia   \n",
       "\n",
       "                                             countryname prodline  \\\n",
       "0                                            World;World       RE   \n",
       "1      Democratic Republic of the Congo;Democratic Re...       PE   \n",
       "2      People's Republic of Bangladesh;People's Repub...       PE   \n",
       "3      Islamic  Republic of Afghanistan;Islamic  Repu...       PE   \n",
       "4      Federal Republic of Nigeria;Federal Republic o...       PE   \n",
       "...                                                  ...      ...   \n",
       "18243                Republic of Chile;Republic of Chile       PE   \n",
       "18244  Grand Duchy of Luxembourg;Grand Duchy of Luxem...       PE   \n",
       "18245              Kingdom of Denmark;Kingdom of Denmark       PE   \n",
       "18246  Kingdom of the Netherlands;Kingdom of the Neth...       PE   \n",
       "18247                    French Republic;French Republic       PE   \n",
       "\n",
       "                       lendinginstr lendinginstrtype envassesmentcategorycode  \\\n",
       "0      Investment Project Financing               IN                        C   \n",
       "1      Investment Project Financing               IN                        B   \n",
       "2      Investment Project Financing               IN                      NaN   \n",
       "3      Investment Project Financing               IN                        A   \n",
       "4      Investment Project Financing               IN                        B   \n",
       "...                             ...              ...                      ...   \n",
       "18243      Specific Investment Loan               IN                      NaN   \n",
       "18244    Structural Adjustment Loan               AD                      NaN   \n",
       "18245    Structural Adjustment Loan               AD                      NaN   \n",
       "18246    Structural Adjustment Loan               AD                      NaN   \n",
       "18247    Structural Adjustment Loan               AD                      NaN   \n",
       "\n",
       "      supplementprojectflg productlinetype projectstatusdisplay  ...  \\\n",
       "0                        N               L               Active  ...   \n",
       "1                        N               L               Active  ...   \n",
       "2                        Y               L               Active  ...   \n",
       "3                        N               L               Active  ...   \n",
       "4                        N               L               Active  ...   \n",
       "...                    ...             ...                  ...  ...   \n",
       "18243                    N               L               Closed  ...   \n",
       "18244                    N               L               Closed  ...   \n",
       "18245                    N               L               Closed  ...   \n",
       "18246                    N               L               Closed  ...   \n",
       "18247                    N               L               Closed  ...   \n",
       "\n",
       "                                              GeoLocName  \\\n",
       "0                                                    NaN   \n",
       "1                                                    NaN   \n",
       "2                                                    NaN   \n",
       "3                                                    NaN   \n",
       "4      Ogun State;Niger State;Abia State;Edo;Kebbi St...   \n",
       "...                                                  ...   \n",
       "18243                                                NaN   \n",
       "18244                                                NaN   \n",
       "18245                                                NaN   \n",
       "18246                                                NaN   \n",
       "18247                                                NaN   \n",
       "\n",
       "                      Latitude               Longitude            Country  \\\n",
       "0                          NaN                     NaN                NaN   \n",
       "1                          NaN                     NaN                NaN   \n",
       "2                          NaN                     NaN                NaN   \n",
       "3                          NaN                     NaN                NaN   \n",
       "4      7;10;5.41667;6.5;11.5;8  3.58333;6;7.5;6;4;10.5  NG;NG;NG;NG;NG;NG   \n",
       "...                        ...                     ...                ...   \n",
       "18243                      NaN                     NaN                NaN   \n",
       "18244                      NaN                     NaN                NaN   \n",
       "18245                      NaN                     NaN                NaN   \n",
       "18246                      NaN                     NaN                NaN   \n",
       "18247                      NaN                     NaN                NaN   \n",
       "\n",
       "      approvalyear approvalday approvalweekday closingyear closingday  \\\n",
       "0           2018.0        28.0             3.0         NaN        NaN   \n",
       "1           2018.0        28.0             3.0      2023.0       31.0   \n",
       "2           2018.0        28.0             3.0         NaN        NaN   \n",
       "3           2018.0        27.0             2.0      2023.0       28.0   \n",
       "4           2018.0        27.0             2.0      2023.0       31.0   \n",
       "...            ...         ...             ...         ...        ...   \n",
       "18243       1948.0        25.0             3.0      1954.0       31.0   \n",
       "18244       1947.0        28.0             3.0      1949.0       31.0   \n",
       "18245       1947.0        22.0             4.0      1949.0       31.0   \n",
       "18246       1947.0         7.0             3.0      1948.0       30.0   \n",
       "18247       1947.0         9.0             4.0      1947.0       31.0   \n",
       "\n",
       "      closingweekday  \n",
       "0                NaN  \n",
       "1                6.0  \n",
       "2                NaN  \n",
       "3                2.0  \n",
       "4                2.0  \n",
       "...              ...  \n",
       "18243            4.0  \n",
       "18244            3.0  \n",
       "18245            3.0  \n",
       "18246            2.0  \n",
       "18247            2.0  \n",
       "\n",
       "[18248 rows x 62 columns]"
      ]
     },
     "execution_count": 18,
     "metadata": {},
     "output_type": "execute_result"
    }
   ],
   "source": [
    "df_projects"
   ]
  },
  {
   "cell_type": "code",
   "execution_count": 21,
   "metadata": {},
   "outputs": [],
   "source": [
    "pd.set_option(\"display.max.columns\", None)"
   ]
  },
  {
   "cell_type": "code",
   "execution_count": 19,
   "metadata": {},
   "outputs": [],
   "source": [
    "# HINT: The totalamt column is currently a string with commas. For example 100,250,364. You'll need to remove the\n",
    "#         commas and convert the column to a numeric variable.\n",
    "# HINT: pandas groupby, sum, and plot methods should also be helpful\n",
    "\n",
    "import matplotlib.pyplot as plt\n",
    "%matplotlib inline\n",
    "\n",
    "# TODO: Step 1 - convert the totalamt column from string to numeric. Be sure to remove the commas in this column\n",
    "df_projects['totalamt'] = df_projects['totalamt'].str.replace(',','').astype(float)"
   ]
  },
  {
   "cell_type": "code",
   "execution_count": 25,
   "metadata": {},
   "outputs": [],
   "source": [
    "# TODO: Step 2 - calculate the sum of the totalamt column by year and plot the results with a line plot\n",
    "df_totalamt_by_year = df_projects.groupby('approvalyear')['totalamt'].sum()"
   ]
  },
  {
   "cell_type": "code",
   "execution_count": 29,
   "metadata": {},
   "outputs": [
    {
     "data": {
      "text/plain": [
       "Text(0, 0.5, 'total amount')"
      ]
     },
     "execution_count": 29,
     "metadata": {},
     "output_type": "execute_result"
    },
    {
     "data": {
      "image/png": "[encoded data removed]",
      "text/plain": [
       "<Figure size 432x288 with 1 Axes>"
      ]
     },
     "metadata": {
      "needs_background": "light"
     },
     "output_type": "display_data"
    }
   ],
   "source": [
    "# TODO: Make a visualization with year on the x-axis and the sum of the totalamt columns per year on the y-axis\n",
    "\n",
    "\n",
    "df_totalamt_by_year.plot.line()\n",
    "plt.title('total amount by year')\n",
    "plt.xlabel('year')\n",
    "plt.ylabel('total amount')"
   ]
  },
  {
   "cell_type": "markdown",
   "metadata": {},
   "source": [
    "# Conclusion\n",
    "\n",
    "Parsing dates is a common task data transformation task. This is true not just with pandas but with other data systems like [SQL](http://www-db.deis.unibo.it/courses/TW/DOCS/w3schools/sql/sql_dates.asp.html)."
   ]
  }
 ],
 "metadata": {
  "kernelspec": {
   "display_name": "Python 3",
   "language": "python",
   "name": "python3"
  },
  "language_info": {
   "codemirror_mode": {
    "name": "ipython",
    "version": 3
   },
   "file_extension": ".py",
   "mimetype": "text/x-python",
   "name": "python",
   "nbconvert_exporter": "python",
   "pygments_lexer": "ipython3",
   "version": "3.7.4"
  }
 },
 "nbformat": 4,
 "nbformat_minor": 2
}
