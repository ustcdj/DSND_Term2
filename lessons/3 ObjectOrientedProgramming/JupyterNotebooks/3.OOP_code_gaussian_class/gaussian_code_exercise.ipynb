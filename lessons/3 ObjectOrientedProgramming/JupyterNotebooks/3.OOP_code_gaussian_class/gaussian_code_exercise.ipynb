{
 "cells": [
  {
   "cell_type": "markdown",
   "metadata": {},
   "source": [
    "# Gaussian Code Exercise\n",
    "\n",
    "Read through the code below and fill out the TODOs. You'll find a cell at the end of the Jupyter notebook containing unit tests. After you've run the code cell with the Gaussian class, you can run the final cell to check that your code functions as expected.\n",
    "\n",
    "This exercise includes a file called 'numbers.txt', which you can see if you click on the 'Jupyter' icon at the top of the workspace and then go into the folder titled 3.OOP_code_gaussian_class. The 'numbers.txt' file is read in by the read_data_file() method. There is also a solution in the 3.OOP_code_gaussian_class folder in a file called answer.py."
   ]
  },
  {
   "cell_type": "code",
   "execution_count": 44,
   "metadata": {},
   "outputs": [],
   "source": [
    "import math\n",
    "import matplotlib.pyplot as plt\n",
    "%matplotlib inline"
   ]
  },
  {
   "cell_type": "code",
   "execution_count": 102,
   "metadata": {},
   "outputs": [],
   "source": [
    "# this class has a built in data file feeder\n",
    "\n",
    "class Gaussian():\n",
    "    \"\"\" Gaussian distribution class for calculating and \n",
    "    visualizing a Gaussian distribution.\n",
    "    \n",
    "    Attributes:\n",
    "        mean (float) representing the mean value of the distribution\n",
    "        stdev (float) representing the standard deviation of the distribution\n",
    "        data_list (list of floats) a list of floats extracted from the data file\n",
    "            \n",
    "    \"\"\"\n",
    "    def __init__(self, mu = 0, sigma = 1):\n",
    "        \n",
    "        self.mean = mu\n",
    "        self.stdev = sigma\n",
    "        self.data = []\n",
    "\n",
    "\n",
    "    \n",
    "    def calculate_mean(self):\n",
    "    \n",
    "        \"\"\"Method to calculate the mean of the data set.\n",
    "        \n",
    "        Args: \n",
    "            None\n",
    "        \n",
    "        Returns: \n",
    "            float: mean of the data set\n",
    "    \n",
    "        \"\"\"\n",
    "        self.mean = 1.0 * sum(self.data)/len(self.data)\n",
    "        return self.mean\n",
    "        #TODO: Calculate the mean of the data set. Remember that the data set is stored in self.data\n",
    "        # Change the value of the mean attribute to be the mean of the data set\n",
    "        # Return the mean of the data set           \n",
    "        pass\n",
    "                \n",
    "\n",
    "\n",
    "    def calculate_stdev(self, sample=True):\n",
    "\n",
    "        \"\"\"Method to calculate the standard deviation of the data set.\n",
    "        \n",
    "        Args: \n",
    "            sample (bool): whether the data represents a sample or population\n",
    "        \n",
    "        Returns: \n",
    "            float: standard deviation of the data set\n",
    "    \n",
    "        \"\"\"\n",
    "\n",
    "        # TODO:\n",
    "        #   Calculate the standard deviation of the data set\n",
    "        #   \n",
    "        #   The sample variable determines if the data set contains a sample or a population\n",
    "        #   If sample = True, this means the data is a sample. \n",
    "        #   Keep the value of sample in mind for calculating the standard deviation\n",
    "        #\n",
    "        #   Make sure to update self.stdev and return the standard deviation as well    \n",
    "        if sample==True:\n",
    "            variance = sum((x-self.calculate_mean())**2 for x in self.data)/(len(self.data)-1)\n",
    "        else:\n",
    "            variance = sum((x-self.calculate_mean())**2 for x in self.data)/len(self.data)\n",
    "        self.stdev = variance**0.5\n",
    "        return self.stdev\n",
    "        \n",
    "        pass\n",
    "        \n",
    "\n",
    "    def read_data_file(self, file_name, sample=True):\n",
    "    \n",
    "        \"\"\"Method to read in data from a txt file. The txt file should have\n",
    "        one number (float) per line. The numbers are stored in the data attribute. \n",
    "        After reading in the file, the mean and standard deviation are calculated\n",
    "                \n",
    "        Args:\n",
    "            file_name (string): name of a file to read from\n",
    "        \n",
    "        Returns:\n",
    "            None\n",
    "        \n",
    "        \"\"\"\n",
    "        \n",
    "        # This code opens a data file and appends the data to a list called data_list\n",
    "        with open(file_name) as file:\n",
    "            data_list = []\n",
    "            line = file.readline()\n",
    "            while line:\n",
    "                data_list.append(int(line))\n",
    "                line = file.readline()\n",
    "        file.close()\n",
    "    \n",
    "        # TODO: \n",
    "        #   Update the self.data attribute with the data_list\n",
    "        #   Update self.mean with the mean of the data_list. \n",
    "        #       You can use the calculate_mean() method with self.calculate_mean()\n",
    "        #   Update self.stdev with the standard deviation of the data_list. Use the \n",
    "        #       calculate_stdev() method.\n",
    "        self.data = data_list\n",
    "        self.calculate_mean()\n",
    "        self.calculate_stdev(sample = sample)\n",
    "        \n",
    "        \n",
    "    def plot_histogram(self):\n",
    "        \"\"\"Method to output a histogram of the instance variable data using \n",
    "        matplotlib pyplot library.\n",
    "        \n",
    "        Args:\n",
    "            None\n",
    "            \n",
    "        Returns:\n",
    "            None\n",
    "        \"\"\"\n",
    "        \n",
    "        # TODO: Plot a histogram of the data_list using the matplotlib package.\n",
    "        #       Be sure to label the x and y axes and also give the chart a title\n",
    "        plt.hist(self.data)\n",
    "        plt.xlabel('data')\n",
    "        plt.ylabel('Probability')\n",
    "        plt.title('Histogram of data')\n",
    "                \n",
    "        \n",
    "    def pdf(self, x):\n",
    "        \"\"\"Probability density function calculator for the gaussian distribution.\n",
    "        \n",
    "        Args:\n",
    "            x (float): point for calculating the probability density function\n",
    "            \n",
    "        \n",
    "        Returns:\n",
    "            float: probability density function output\n",
    "        \"\"\"\n",
    "        \n",
    "        # TODO: Calculate the probability density function of the Gaussian distribution\n",
    "        #       at the value x. You'll need to use self.stdev and self.mean to do the calculation\n",
    "        var = float(self.stdev)**2\n",
    "        denom = (2*math.pi*var)**0.5\n",
    "        num = math.exp(-(float(x)-float(self.mean))**2/(2*var))\n",
    "        return num/denom\n",
    "#        return (1.0 / (self.stdev * math.sqrt(2*math.pi))) * math.exp(-0.5*((x - self.mean) / self.stdev) ** 2)       \n",
    "        pass        \n",
    "\n",
    "    def plot_histogram_pdf(self, n_spaces = 50):\n",
    "\n",
    "        \"\"\"Method to plot the normalized histogram of the data and a plot of the \n",
    "        probability density function along the same range\n",
    "        \n",
    "        Args:\n",
    "            n_spaces (int): number of data points \n",
    "        \n",
    "        Returns:\n",
    "            list: x values for the pdf plot\n",
    "            list: y values for the pdf plot\n",
    "            \n",
    "        \"\"\"\n",
    "        \n",
    "        #TODO: Nothing to do for this method. Try it out and see how it works.\n",
    "        \n",
    "        mu = self.mean\n",
    "        sigma = self.stdev\n",
    "\n",
    "        min_range = min(self.data)\n",
    "        max_range = max(self.data)\n",
    "        \n",
    "         # calculates the interval between x values\n",
    "        interval = 1.0 * (max_range - min_range) / n_spaces\n",
    "\n",
    "        x = []\n",
    "        y = []\n",
    "        \n",
    "        # calculate the x values to visualize\n",
    "        for i in range(n_spaces):\n",
    "            tmp = min_range + interval*i\n",
    "            x.append(tmp)\n",
    "            y.append(self.pdf(tmp))\n",
    "\n",
    "        # make the plots\n",
    "        fig, axes = plt.subplots(2,sharex=True)\n",
    "        fig.subplots_adjust(hspace=1)\n",
    "        axes[0].hist(self.data, density=True)\n",
    "        axes[0].set_title('Normed Histogram of Data')\n",
    "        axes[0].set_ylabel('Density')\n",
    "\n",
    "        axes[1].plot(x, y)\n",
    "        axes[1].set_title('Normal Distribution for \\n Sample Mean and Sample Standard Deviation')\n",
    "        axes[0].set_ylabel('Density')\n",
    "        plt.show()\n",
    "\n",
    " #      return x, y"
   ]
  },
  {
   "cell_type": "code",
   "execution_count": 103,
   "metadata": {},
   "outputs": [
    {
     "name": "stderr",
     "output_type": "stream",
     "text": [
      "....\n",
      "----------------------------------------------------------------------\n",
      "Ran 4 tests in 0.041s\n",
      "\n",
      "OK\n"
     ]
    },
    {
     "data": {
      "text/plain": [
       "<unittest.runner.TextTestResult run=4 errors=0 failures=0>"
      ]
     },
     "execution_count": 103,
     "metadata": {},
     "output_type": "execute_result"
    }
   ],
   "source": [
    "# Unit tests to check your solution\n",
    "\n",
    "import unittest\n",
    "\n",
    "class TestGaussianClass(unittest.TestCase):\n",
    "    def setUp(self):\n",
    "        self.gaussian = Gaussian(25, 2)\n",
    "\n",
    "    def test_initialization(self): \n",
    "        self.assertEqual(self.gaussian.mean, 25, 'incorrect mean')\n",
    "        self.assertEqual(self.gaussian.stdev, 2, 'incorrect standard deviation')\n",
    "\n",
    "    def test_pdf(self):\n",
    "        self.assertEqual(round(self.gaussian.pdf(25), 5), 0.19947,\\\n",
    "         'pdf function does not give expected result') \n",
    "\n",
    "    def test_meancalculation(self):\n",
    "        self.gaussian.read_data_file('numbers.txt', True)\n",
    "        self.assertEqual(self.gaussian.calculate_mean(),\\\n",
    "        sum(self.gaussian.data) / float(len(self.gaussian.data)), 'calculated mean not as expected')\n",
    "\n",
    "    def test_stdevcalculation(self):\n",
    "        self.gaussian.read_data_file('numbers.txt', True)\n",
    "        self.assertEqual(round(self.gaussian.stdev, 2), 92.87, 'sample standard deviation incorrect')\n",
    "        self.gaussian.read_data_file('numbers.txt', False)\n",
    "        self.assertEqual(round(self.gaussian.stdev, 2), 88.55, 'population standard deviation incorrect')\n",
    "                \n",
    "tests = TestGaussianClass()\n",
    "\n",
    "tests_loaded = unittest.TestLoader().loadTestsFromModule(tests)\n",
    "\n",
    "unittest.TextTestRunner().run(tests_loaded)"
   ]
  },
  {
   "cell_type": "code",
   "execution_count": 104,
   "metadata": {},
   "outputs": [],
   "source": [
    "a = Gaussian(4, 1)"
   ]
  },
  {
   "cell_type": "code",
   "execution_count": 68,
   "metadata": {},
   "outputs": [
    {
     "data": {
      "text/plain": [
       "4"
      ]
     },
     "execution_count": 68,
     "metadata": {},
     "output_type": "execute_result"
    }
   ],
   "source": [
    "a.mean"
   ]
  },
  {
   "cell_type": "code",
   "execution_count": 69,
   "metadata": {},
   "outputs": [
    {
     "data": {
      "text/plain": [
       "1"
      ]
     },
     "execution_count": 69,
     "metadata": {},
     "output_type": "execute_result"
    }
   ],
   "source": [
    "a.stdev"
   ]
  },
  {
   "cell_type": "code",
   "execution_count": 70,
   "metadata": {},
   "outputs": [
    {
     "data": {
      "text/plain": [
       "[]"
      ]
     },
     "execution_count": 70,
     "metadata": {},
     "output_type": "execute_result"
    }
   ],
   "source": [
    "a.data"
   ]
  },
  {
   "cell_type": "code",
   "execution_count": 105,
   "metadata": {},
   "outputs": [],
   "source": [
    "a.read_data_file('numbers.txt', True)"
   ]
  },
  {
   "cell_type": "code",
   "execution_count": 72,
   "metadata": {},
   "outputs": [
    {
     "data": {
      "text/plain": [
       "[1, 3, 99, 100, 120, 32, 330, 23, 76, 44, 31]"
      ]
     },
     "execution_count": 72,
     "metadata": {},
     "output_type": "execute_result"
    }
   ],
   "source": [
    "a.data"
   ]
  },
  {
   "cell_type": "code",
   "execution_count": 73,
   "metadata": {},
   "outputs": [
    {
     "data": {
      "text/plain": [
       "78.0909090909091"
      ]
     },
     "execution_count": 73,
     "metadata": {},
     "output_type": "execute_result"
    }
   ],
   "source": [
    "a.mean"
   ]
  },
  {
   "cell_type": "code",
   "execution_count": 74,
   "metadata": {},
   "outputs": [
    {
     "data": {
      "text/plain": [
       "92.87459776004906"
      ]
     },
     "execution_count": 74,
     "metadata": {},
     "output_type": "execute_result"
    }
   ],
   "source": [
    "a.stdev"
   ]
  },
  {
   "cell_type": "code",
   "execution_count": 75,
   "metadata": {},
   "outputs": [
    {
     "data": {
      "text/plain": [
       "78.0909090909091"
      ]
     },
     "execution_count": 75,
     "metadata": {},
     "output_type": "execute_result"
    }
   ],
   "source": [
    "a.calculate_mean()"
   ]
  },
  {
   "cell_type": "code",
   "execution_count": 76,
   "metadata": {},
   "outputs": [
    {
     "data": {
      "text/plain": [
       "92.87459776004906"
      ]
     },
     "execution_count": 76,
     "metadata": {},
     "output_type": "execute_result"
    }
   ],
   "source": [
    "a.calculate_stdev()"
   ]
  },
  {
   "cell_type": "code",
   "execution_count": 106,
   "metadata": {},
   "outputs": [
    {
     "data": {
      "image/png": "[encoded data removed]",
      "text/plain": [
       "<Figure size 432x288 with 1 Axes>"
      ]
     },
     "metadata": {
      "needs_background": "light"
     },
     "output_type": "display_data"
    }
   ],
   "source": [
    "a.plot_histogram()"
   ]
  },
  {
   "cell_type": "code",
   "execution_count": 82,
   "metadata": {},
   "outputs": [
    {
     "data": {
      "text/plain": [
       "0.0031247751715560135"
      ]
     },
     "execution_count": 82,
     "metadata": {},
     "output_type": "execute_result"
    }
   ],
   "source": [
    "a.pdf(4)"
   ]
  },
  {
   "cell_type": "code",
   "execution_count": 84,
   "metadata": {},
   "outputs": [
    {
     "data": {
      "text/plain": [
       "0.003016437877710777"
      ]
     },
     "execution_count": 84,
     "metadata": {},
     "output_type": "execute_result"
    }
   ],
   "source": [
    "a.pdf(0)"
   ]
  },
  {
   "cell_type": "code",
   "execution_count": 107,
   "metadata": {},
   "outputs": [
    {
     "data": {
      "image/png": "[encoded data removed]",
      "text/plain": [
       "<Figure size 432x288 with 2 Axes>"
      ]
     },
     "metadata": {
      "needs_background": "light"
     },
     "output_type": "display_data"
    }
   ],
   "source": [
    "a.plot_histogram_pdf()"
   ]
  },
  {
   "cell_type": "code",
   "execution_count": null,
   "metadata": {},
   "outputs": [],
   "source": []
  }
 ],
 "metadata": {
  "kernelspec": {
   "display_name": "Python 3",
   "language": "python",
   "name": "python3"
  },
  "language_info": {
   "codemirror_mode": {
    "name": "ipython",
    "version": 3
   },
   "file_extension": ".py",
   "mimetype": "text/x-python",
   "name": "python",
   "nbconvert_exporter": "python",
   "pygments_lexer": "ipython3",
   "version": "3.7.4"
  }
 },
 "nbformat": 4,
 "nbformat_minor": 2
}
